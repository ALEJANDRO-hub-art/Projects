{
 "cells": [
  {
   "cell_type": "code",
   "execution_count": 1,
   "id": "37536e7f-3c7a-4045-aec3-ef8762e54076",
   "metadata": {},
   "outputs": [
    {
     "name": "stdin",
     "output_type": "stream",
     "text": [
      "Enter Starting Unit of Measurement(inches, feet, yards):  feet\n",
      "Enter Unit of Measurement to Convert to(inches, feet, yards):  yards\n",
      "Enter Starting Measurement in Feet:  5\n"
     ]
    },
    {
     "name": "stdout",
     "output_type": "stream",
     "text": [
      "Result: 5 Feet = 1.67 Yards\n"
     ]
    }
   ],
   "source": [
    "convert_from = input(\"Enter Starting Unit of Measurement(inches, feet, yards): \")\n",
    "\n",
    "convert_to = input(\"Enter Unit of Measurement to Convert to(inches, feet, yards): \")\n",
    "\n",
    "if convert_from.lower() in [\"inches\", \"in\", \"inch\"]:\n",
    "    number_of_inches = int(input(\"Enter Starting Measurement in Inches: \"))\n",
    "    if convert_to.lower() in [\"feet\", \"foot\", \"ft\"]:\n",
    "        print(\"Result: \" + str(number_of_inches) + \" Inches = \" + str(round(number_of_inches / 12,2)) + \" Feet\")\n",
    "    elif convert_to.lower() in [\"yards\", \"yard\", \"yd\"]:\n",
    "        print(\"Result: \" + str(number_of_inches) + \" Inches = \" + str(round(number_of_inches / 36,2)) + \" Yards\")\n",
    "    else:\n",
    "        print(\"Please Enter either Inches, Feet, or Yards.\")\n",
    "\n",
    "elif convert_from.lower() in [\"feet\", \"foot\", \"ft\"]:\n",
    "    number_of_feet = int(input(\"Enter Starting Measurement in Feet: \"))\n",
    "    if convert_to.lower() in [\"inches\", \"in\", \"inch\"]:\n",
    "        print(\"Result: \" + str(number_of_feet) + \" Feet = \" + str(round(number_of_feet * 12)) + \" Inches\")\n",
    "    elif convert_to.lower() in [\"yards\", \"yard\", \"yd\"]:\n",
    "        print(\"Result: \" + str(number_of_feet) + \" Feet = \" + str(round(number_of_feet / 3,2)) + \" Yards\")\n",
    "    else:\n",
    "        print(\"Please Enter either Inches, Feet, or Yards.\")\n",
    "\n",
    "elif convert_from.lower() in [\"yards\", \"yard\", \"yd\"]:\n",
    "    number_of_yards = int(input(\"Enter Starting Measurement in Yards: \"))\n",
    "    if convert_to.lower() in [\"inches\", \"in\", \"inch\"]:\n",
    "        print(\"Result: \" + str(number_of_yards) + \" Yards = \" + str(round(number_of_yards * 36)) + \" Inches\")\n",
    "    elif convert_to.lower() in [\"feet\", \"foot\", \"ft\"]:\n",
    "        print(\"Result: \" + str(number_of_yards) + \" Yards = \" + str(round(number_of_yards * 3)) + \" Feet\")\n",
    "    else:\n",
    "        print(\"Please Enter either Inches, Feet, or Yards.\")\n",
    "\n",
    "else:\n",
    "    print(\"Please Enter either Inches, Feet, or Yards.\")"
   ]
  },
  {
   "cell_type": "code",
   "execution_count": null,
   "id": "a87299f0-48d6-4825-b9ca-a73451306c71",
   "metadata": {},
   "outputs": [],
   "source": []
  },
  {
   "cell_type": "code",
   "execution_count": null,
   "id": "ef67d4ed-bf63-4719-8fb2-6c8a4c9f876d",
   "metadata": {},
   "outputs": [],
   "source": []
  },
  {
   "cell_type": "code",
   "execution_count": null,
   "id": "adc15391-c715-4c6a-8cd2-6e0177d62953",
   "metadata": {},
   "outputs": [],
   "source": []
  },
  {
   "cell_type": "code",
   "execution_count": null,
   "id": "842b83f8-55b2-4493-b213-b7f890bad7c8",
   "metadata": {},
   "outputs": [],
   "source": []
  },
  {
   "cell_type": "code",
   "execution_count": null,
   "id": "e68acb55-6118-4a73-9774-60d941228f70",
   "metadata": {},
   "outputs": [],
   "source": []
  },
  {
   "cell_type": "code",
   "execution_count": null,
   "id": "237397e9-8ea9-4799-a810-707309a20699",
   "metadata": {},
   "outputs": [],
   "source": []
  },
  {
   "cell_type": "code",
   "execution_count": null,
   "id": "91f955ed-e7a3-4e68-94f9-7bb235ff4174",
   "metadata": {},
   "outputs": [],
   "source": []
  }
 ],
 "metadata": {
  "kernelspec": {
   "display_name": "Python 3 (ipykernel)",
   "language": "python",
   "name": "python3"
  },
  "language_info": {
   "codemirror_mode": {
    "name": "ipython",
    "version": 3
   },
   "file_extension": ".py",
   "mimetype": "text/x-python",
   "name": "python",
   "nbconvert_exporter": "python",
   "pygments_lexer": "ipython3",
   "version": "3.13.5"
  }
 },
 "nbformat": 4,
 "nbformat_minor": 5
}
