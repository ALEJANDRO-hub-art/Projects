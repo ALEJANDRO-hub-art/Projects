{
 "cells": [
  {
   "cell_type": "code",
   "execution_count": 1,
   "id": "fa417155-6689-4cd1-815d-8e69807e4466",
   "metadata": {},
   "outputs": [],
   "source": [
    "from bs4 import BeautifulSoup\n",
    "import requests\n",
    "import pandas as pd\n",
    "from datetime import datetime\n",
    "import os\n",
    "import time"
   ]
  },
  {
   "cell_type": "code",
   "execution_count": 2,
   "id": "b2c587d0-484a-476a-8049-de4ed9ffa96e",
   "metadata": {},
   "outputs": [],
   "source": [
    "\n",
    "\n",
    "\n",
    "def automated_crypto_pull():\n",
    "    url = 'https://coinmarketcap.com/currencies/bitcoin/'\n",
    "    \n",
    "    page = requests.get(url)\n",
    "    \n",
    "    soup = BeautifulSoup(page.text, 'html.parser')\n",
    "    \n",
    "    crypto_name = soup.find('span', class_ = 'sc-1d5226ca-1 fla-dNu').text\n",
    "    \n",
    "    crypto_price = soup.find('div', class_ = 'priceValue').text\n",
    "    \n",
    "    final_price = crypto_price.replace('$','')\n",
    "    \n",
    "    date_time = datetime.now()\n",
    "    \n",
    "    dict = {'Crypto Name': crypto_name,\n",
    "            'Price': final_price,\n",
    "            'TimeStamp': date_time}\n",
    "    \n",
    "    df = pd.DataFrame([dict])\n",
    "    \n",
    "    if os.path.exists(r'C:\\Users\\Usuario\\Desktop\\16 Project 4 - Automated Crypto Web Scraper example\\Crypto Web Puller\\Crypto_Automated_Pull.csv'):\n",
    "        df.to_csv(r'C:\\Users\\Usuario\\Desktop\\16 Project 4 - Automated Crypto Web Scraper example\\Crypto Web Puller\\Crypto_Automated_Pull.csv', mode='a', header=False, index=False)\n",
    "    else:\n",
    "        df.to_csv(r'C:\\Users\\Usuario\\Desktop\\16 Project 4 - Automated Crypto Web Scraper example\\Crypto Web Puller\\Crypto_Automated_Pull.csv', index = False)\n",
    "    print(df)\n",
    "\n",
    "    "
   ]
  },
  {
   "cell_type": "code",
   "execution_count": null,
   "id": "0b15c287-7c30-4bc1-939a-1f33399d3d08",
   "metadata": {},
   "outputs": [],
   "source": [
    "while True:\n",
    "    automated_crypto_pull()\n",
    "    time.sleep(10)"
   ]
  }
 ],
 "metadata": {
  "kernelspec": {
   "display_name": "Python [conda env:base] *",
   "language": "python",
   "name": "conda-base-py"
  },
  "language_info": {
   "codemirror_mode": {
    "name": "ipython",
    "version": 3
   },
   "file_extension": ".py",
   "mimetype": "text/x-python",
   "name": "python",
   "nbconvert_exporter": "python",
   "pygments_lexer": "ipython3",
   "version": "3.13.5"
  }
 },
 "nbformat": 4,
 "nbformat_minor": 5
}
